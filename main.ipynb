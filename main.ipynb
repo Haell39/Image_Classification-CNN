{
 "cells": [
  {
   "cell_type": "code",
   "id": "initial_id",
   "metadata": {
    "collapsed": true,
    "ExecuteTime": {
     "end_time": "2025-06-24T05:36:10.720867Z",
     "start_time": "2025-06-24T05:36:10.443908Z"
    }
   },
   "source": [
    "import numpy as np\n",
    "from PIL import Image\n",
    "\n",
    "# Pytorch\n",
    "import torch\n",
    "import torch.nn as nn\n",
    "import torch.nn.functional as F\n",
    "import torch.optim as optim\n",
    "\n",
    "# Torchvision\n",
    "import torchvision\n",
    "import torchvision.transforms as transforms\n",
    "from torch.utils.tensorboard.summary import image"
   ],
   "outputs": [],
   "execution_count": 4
  },
  {
   "metadata": {
    "ExecuteTime": {
     "end_time": "2025-06-24T05:36:15.555794Z",
     "start_time": "2025-06-24T05:36:15.552530Z"
    }
   },
   "cell_type": "code",
   "source": [
    "transforms = transforms.Compose([\n",
    "    transforms.ToTensor(),\n",
    "    transforms.Normalize((0.5, 0.5, 0.5), (0.5, 0.5, 0.5))\n",
    "])"
   ],
   "id": "3e21430ba948ca27",
   "outputs": [],
   "execution_count": 5
  },
  {
   "metadata": {
    "ExecuteTime": {
     "end_time": "2025-06-24T05:36:20.997776Z",
     "start_time": "2025-06-24T05:36:19.215952Z"
    }
   },
   "cell_type": "code",
   "source": [
    "train_data = torchvision.datasets.CIFAR10(\n",
    "    root='./data',\n",
    "    train=True,\n",
    "    download=True,\n",
    "    transform=transforms)\n",
    "\n",
    "#test data\n",
    "\n",
    "test_data = torchvision.datasets.CIFAR10(\n",
    "    './data',\n",
    "    train=False,\n",
    "    download=True,\n",
    "    transform=transforms\n",
    ")\n",
    "\n",
    "#train loader\n",
    "train_loader = torch.utils.data.DataLoader(\n",
    "    train_data,\n",
    "    batch_size=32,\n",
    "    shuffle=True,\n",
    "    num_workers=2\n",
    ")\n",
    "\n",
    "# test loader\n",
    "test_loader = torch.utils.data.DataLoader(\n",
    "    test_data,\n",
    "    batch_size=32,\n",
    "    shuffle=False,\n",
    "    num_workers=2\n",
    ")"
   ],
   "id": "b09ea86cb039e8c",
   "outputs": [],
   "execution_count": 6
  },
  {
   "metadata": {
    "ExecuteTime": {
     "end_time": "2025-06-24T05:36:23.098257Z",
     "start_time": "2025-06-24T05:36:23.039909Z"
    }
   },
   "cell_type": "code",
   "source": "image, label = train_data[0]",
   "id": "790cd3939c0a27eb",
   "outputs": [],
   "execution_count": 7
  },
  {
   "metadata": {
    "ExecuteTime": {
     "end_time": "2025-06-24T05:37:03.500529Z",
     "start_time": "2025-06-24T05:37:03.493943Z"
    }
   },
   "cell_type": "code",
   "source": "image.size()",
   "id": "78477dbb2f54f799",
   "outputs": [
    {
     "data": {
      "text/plain": [
       "torch.Size([3, 32, 32])"
      ]
     },
     "execution_count": 8,
     "metadata": {},
     "output_type": "execute_result"
    }
   ],
   "execution_count": 8
  },
  {
   "metadata": {
    "ExecuteTime": {
     "end_time": "2025-06-24T05:37:52.857092Z",
     "start_time": "2025-06-24T05:37:52.853746Z"
    }
   },
   "cell_type": "code",
   "source": "class_name = ['plane', 'car', 'bird', 'cat', 'deer', 'dog', 'frog', 'horse', 'ship', 'truck']",
   "id": "c06a98537865896f",
   "outputs": [],
   "execution_count": 9
  },
  {
   "metadata": {
    "ExecuteTime": {
     "end_time": "2025-06-24T05:47:18.474962Z",
     "start_time": "2025-06-24T05:47:18.469033Z"
    }
   },
   "cell_type": "code",
   "source": [
    "class NeuralNet(nn.Module):\n",
    "    def __init__(self):\n",
    "        super().__init__()\n",
    "\n",
    "        self.conv1 = nn.Conv2d(3, 12, 5) # (12, 28, 28)\n",
    "        self.pool = nn.MaxPool2d(2, 2) # (12, 14, 14)\n",
    "        self.conv2 = nn.Conv2d(12, 24, 5) # (24, 10, 10) -> (24, 5, 5) -> Flattened to (24 * 5 * 5)\n",
    "        self.fc1 = nn.Linear(24 * 5 * 5, 120) # (120)\n",
    "        self.fc2 = nn.Linear(120, 84) # (84)\n",
    "        self.fc3 = nn.Linear(84, 10) # (10)\n",
    "\n",
    "    def forward(self, x):\n",
    "        x = self.pool(F.relu(self.conv1(x)))  # Apply conv1 and relu, then max pooling\n",
    "        x = self.pool(F.relu(self.conv2(x)))  # Apply conv2 and relu, then max pooling\n",
    "        x = torch.flatten(x, 1)\n",
    "        x = F.relu(self.fc1(x))  # Apply fc1 and relu\n",
    "        x = F.relu(self.fc2(x))  # Apply fc2 and relu\n",
    "        x = self.fc3(x)  # Apply fc3 (output layer)\n",
    "        return x\n",
    "\n",
    "\n"
   ],
   "id": "ae0009eda92fbcb1",
   "outputs": [],
   "execution_count": 10
  }
 ],
 "metadata": {
  "kernelspec": {
   "display_name": "Python 3",
   "language": "python",
   "name": "python3"
  },
  "language_info": {
   "codemirror_mode": {
    "name": "ipython",
    "version": 2
   },
   "file_extension": ".py",
   "mimetype": "text/x-python",
   "name": "python",
   "nbconvert_exporter": "python",
   "pygments_lexer": "ipython2",
   "version": "2.7.6"
  }
 },
 "nbformat": 4,
 "nbformat_minor": 5
}
