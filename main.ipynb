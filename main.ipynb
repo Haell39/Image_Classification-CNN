{
 "cells": [
  {
   "cell_type": "code",
   "id": "initial_id",
   "metadata": {
    "collapsed": true,
    "ExecuteTime": {
     "end_time": "2025-07-11T19:10:19.863801Z",
     "start_time": "2025-07-11T19:10:07.099316Z"
    }
   },
   "source": [
    "import numpy as np\n",
    "from PIL import Image\n",
    "\n",
    "# Pytorch\n",
    "import torch\n",
    "import torch.nn as nn\n",
    "import torch.nn.functional as F\n",
    "import torch.optim as optim\n",
    "\n",
    "# Torchvision\n",
    "import torchvision\n",
    "import torchvision.transforms as transforms\n",
    "from torch.utils.tensorboard.summary import image"
   ],
   "outputs": [],
   "execution_count": 1
  },
  {
   "metadata": {
    "ExecuteTime": {
     "end_time": "2025-07-11T19:10:19.885169Z",
     "start_time": "2025-07-11T19:10:19.880357Z"
    }
   },
   "cell_type": "code",
   "source": [
    "transforms = transforms.Compose([\n",
    "    transforms.ToTensor(),\n",
    "    transforms.Normalize((0.5, 0.5, 0.5), (0.5, 0.5, 0.5))\n",
    "])"
   ],
   "id": "3e21430ba948ca27",
   "outputs": [],
   "execution_count": 2
  },
  {
   "metadata": {
    "ExecuteTime": {
     "end_time": "2025-07-11T19:10:22.413969Z",
     "start_time": "2025-07-11T19:10:19.894176Z"
    }
   },
   "cell_type": "code",
   "source": [
    "train_data = torchvision.datasets.CIFAR10(\n",
    "    root='./data',\n",
    "    train=True,\n",
    "    download=True,\n",
    "    transform=transforms)\n",
    "\n",
    "#test data\n",
    "\n",
    "test_data = torchvision.datasets.CIFAR10(\n",
    "    './data',\n",
    "    train=False,\n",
    "    download=True,\n",
    "    transform=transforms\n",
    ")\n",
    "\n",
    "#train loader\n",
    "train_loader = torch.utils.data.DataLoader(\n",
    "    train_data,\n",
    "    batch_size=32,\n",
    "    shuffle=True,\n",
    "    num_workers=2\n",
    ")\n",
    "\n",
    "# test loader\n",
    "test_loader = torch.utils.data.DataLoader(\n",
    "    test_data,\n",
    "    batch_size=32,\n",
    "    shuffle=False,\n",
    "    num_workers=2\n",
    ")"
   ],
   "id": "b09ea86cb039e8c",
   "outputs": [],
   "execution_count": 3
  },
  {
   "metadata": {
    "ExecuteTime": {
     "end_time": "2025-07-11T19:10:23.425224Z",
     "start_time": "2025-07-11T19:10:23.219260Z"
    }
   },
   "cell_type": "code",
   "source": "image, label = train_data[0]",
   "id": "790cd3939c0a27eb",
   "outputs": [],
   "execution_count": 4
  },
  {
   "metadata": {
    "ExecuteTime": {
     "end_time": "2025-07-11T19:10:23.660880Z",
     "start_time": "2025-07-11T19:10:23.653879Z"
    }
   },
   "cell_type": "code",
   "source": "image.size()",
   "id": "78477dbb2f54f799",
   "outputs": [
    {
     "data": {
      "text/plain": [
       "torch.Size([3, 32, 32])"
      ]
     },
     "execution_count": 5,
     "metadata": {},
     "output_type": "execute_result"
    }
   ],
   "execution_count": 5
  },
  {
   "metadata": {
    "ExecuteTime": {
     "end_time": "2025-07-11T19:10:23.726511Z",
     "start_time": "2025-07-11T19:10:23.722337Z"
    }
   },
   "cell_type": "code",
   "source": "class_name = ['plane', 'car', 'bird', 'cat', 'deer', 'dog', 'frog', 'horse', 'ship', 'truck']",
   "id": "c06a98537865896f",
   "outputs": [],
   "execution_count": 6
  },
  {
   "metadata": {
    "ExecuteTime": {
     "end_time": "2025-07-11T19:10:23.754819Z",
     "start_time": "2025-07-11T19:10:23.747821Z"
    }
   },
   "cell_type": "code",
   "source": [
    "class NeuralNet(nn.Module):\n",
    "    def __init__(self):\n",
    "        super().__init__()\n",
    "\n",
    "        self.conv1 = nn.Conv2d(3, 12, 5) # (12, 28, 28)\n",
    "        self.pool = nn.MaxPool2d(2, 2) # (12, 14, 14)\n",
    "        self.conv2 = nn.Conv2d(12, 24, 5) # (24, 10, 10) -> (24, 5, 5) -> Flattened to (24 * 5 * 5)\n",
    "        self.fc1 = nn.Linear(24 * 5 * 5, 120) # (120)\n",
    "        self.fc2 = nn.Linear(120, 84) # (84)\n",
    "        self.fc3 = nn.Linear(84, 10) # (10)\n",
    "\n",
    "    def forward(self, x):\n",
    "        x = self.pool(F.relu(self.conv1(x)))  # Apply conv1 and relu, then max pooling\n",
    "        x = self.pool(F.relu(self.conv2(x)))  # Apply conv2 and relu, then max pooling\n",
    "        x = torch.flatten(x, 1)\n",
    "        x = F.relu(self.fc1(x))  # Apply fc1 and relu\n",
    "        x = F.relu(self.fc2(x))  # Apply fc2 and relu\n",
    "        x = self.fc3(x)  # Apply fc3 (output layer)\n",
    "        return x\n",
    "\n",
    "\n"
   ],
   "id": "ae0009eda92fbcb1",
   "outputs": [],
   "execution_count": 7
  },
  {
   "metadata": {
    "ExecuteTime": {
     "end_time": "2025-07-11T19:10:23.886432Z",
     "start_time": "2025-07-11T19:10:23.785850Z"
    }
   },
   "cell_type": "code",
   "source": [
    "net = NeuralNet()\n",
    "loss_function = nn.CrossEntropyLoss()\n",
    "optimizer = optim.SGD(net.parameters(), lr=0.001, momentum=0.9)"
   ],
   "id": "38682d1259b51296",
   "outputs": [],
   "execution_count": 8
  },
  {
   "metadata": {
    "ExecuteTime": {
     "end_time": "2025-07-11T19:26:32.490624Z",
     "start_time": "2025-07-11T19:16:06.861691Z"
    }
   },
   "cell_type": "code",
   "source": [
    "for epoch in range(30):\n",
    "    print(f'Training epoch {epoch }')\n",
    "\n",
    "    running_loss = 0.0\n",
    "\n",
    "    for i, data in enumerate(train_loader):\n",
    "        inputs, labels = data\n",
    "\n",
    "        optimizer.zero_grad()\n",
    "\n",
    "        outputs = net(inputs)\n",
    "\n",
    "        loss = loss_function(outputs, labels)\n",
    "        loss.backward()\n",
    "        optimizer.step()\n",
    "\n",
    "        running_loss += loss.item()\n",
    "\n",
    "    print(f'Loss: {running_loss / len(train_loader):.4f}')"
   ],
   "id": "e0d5f233d445874a",
   "outputs": [
    {
     "name": "stdout",
     "output_type": "stream",
     "text": [
      "Training epoch 0\n",
      "Loss: 0.8714\n",
      "Training epoch 1\n",
      "Loss: 0.8719\n",
      "Training epoch 2\n",
      "Loss: 0.8716\n",
      "Training epoch 3\n",
      "Loss: 0.8715\n",
      "Training epoch 4\n",
      "Loss: 0.8715\n",
      "Training epoch 5\n",
      "Loss: 0.8716\n",
      "Training epoch 6\n",
      "Loss: 0.8716\n",
      "Training epoch 7\n",
      "Loss: 0.8717\n",
      "Training epoch 8\n",
      "Loss: 0.8716\n",
      "Training epoch 9\n",
      "Loss: 0.8715\n",
      "Training epoch 10\n",
      "Loss: 0.8716\n",
      "Training epoch 11\n",
      "Loss: 0.8716\n",
      "Training epoch 12\n",
      "Loss: 0.8715\n",
      "Training epoch 13\n",
      "Loss: 0.8716\n",
      "Training epoch 14\n",
      "Loss: 0.8716\n",
      "Training epoch 15\n",
      "Loss: 0.8717\n",
      "Training epoch 16\n",
      "Loss: 0.8715\n",
      "Training epoch 17\n",
      "Loss: 0.8716\n",
      "Training epoch 18\n",
      "Loss: 0.8716\n",
      "Training epoch 19\n",
      "Loss: 0.8715\n",
      "Training epoch 20\n",
      "Loss: 0.8716\n",
      "Training epoch 21\n",
      "Loss: 0.8717\n",
      "Training epoch 22\n",
      "Loss: 0.8715\n",
      "Training epoch 23\n",
      "Loss: 0.8716\n",
      "Training epoch 24\n",
      "Loss: 0.8717\n",
      "Training epoch 25\n",
      "Loss: 0.8717\n",
      "Training epoch 26\n",
      "Loss: 0.8716\n",
      "Training epoch 27\n",
      "Loss: 0.8717\n",
      "Training epoch 28\n",
      "Loss: 0.8717\n",
      "Training epoch 29\n",
      "Loss: 0.8716\n"
     ]
    }
   ],
   "execution_count": 13
  },
  {
   "metadata": {
    "ExecuteTime": {
     "end_time": "2025-07-11T19:15:28.474640Z",
     "start_time": "2025-07-11T19:15:28.449673Z"
    }
   },
   "cell_type": "code",
   "source": "torch.save(net.state_dict(), 'trained_net.pth')",
   "id": "e2349e1791733e6a",
   "outputs": [],
   "execution_count": 10
  },
  {
   "metadata": {
    "ExecuteTime": {
     "end_time": "2025-07-11T19:15:41.954414Z",
     "start_time": "2025-07-11T19:15:41.856242Z"
    }
   },
   "cell_type": "code",
   "source": [
    "net = NeuralNet()\n",
    "net.load_state_dict(torch.load('trained_net.pth'))"
   ],
   "id": "c196af79286334b5",
   "outputs": [
    {
     "data": {
      "text/plain": [
       "<All keys matched successfully>"
      ]
     },
     "execution_count": 11,
     "metadata": {},
     "output_type": "execute_result"
    }
   ],
   "execution_count": 11
  },
  {
   "metadata": {
    "ExecuteTime": {
     "end_time": "2025-07-11T19:15:57.999164Z",
     "start_time": "2025-07-11T19:15:46.577334Z"
    }
   },
   "cell_type": "code",
   "source": [
    "correct = 0\n",
    "total = 0\n",
    "\n",
    "net.eval()\n",
    "with torch.no_grad():\n",
    "    for data in test_loader:\n",
    "        images, labels = data\n",
    "        outputs = net(images)\n",
    "        _, predicted = torch.max(outputs, 1)\n",
    "        total += labels.size(0)\n",
    "        correct += (predicted == labels).sum().item()\n",
    "\n",
    "accuracy = 100 * correct / total\n",
    "\n",
    "print(f'Accuracy of the network on the 10000 test images: {accuracy:.2f}%')"
   ],
   "id": "e7cb21ea683bc744",
   "outputs": [
    {
     "name": "stdout",
     "output_type": "stream",
     "text": [
      "Accuracy of the network on the 10000 test images: 65.49%\n"
     ]
    }
   ],
   "execution_count": 12
  },
  {
   "metadata": {
    "ExecuteTime": {
     "end_time": "2025-07-11T19:31:26.328389Z",
     "start_time": "2025-07-11T19:31:26.217537Z"
    }
   },
   "cell_type": "code",
   "source": [
    "import torch\n",
    "import torchvision.transforms as transforms\n",
    "from PIL import Image\n",
    "\n",
    "\"\"\"Test Images\"\"\"\n",
    "\n",
    "# Definição das transformações\n",
    "new_transform = transforms.Compose([\n",
    "    transforms.Resize((32, 32)),\n",
    "    transforms.ToTensor(),\n",
    "    transforms.Normalize((0.5, 0.5, 0.5), (0.5, 0.5, 0.5))\n",
    "])\n",
    "\n",
    "# Função para carregar e pré-processar a imagem\n",
    "def load_image(image_path):\n",
    "    image = Image.open(image_path).convert(\"RGB\") # adicionei .convert(\"RGB\") para garantir 3 canais\n",
    "    image = new_transform(image)\n",
    "    image = image.unsqueeze(0)  #  dimensão do batch\n",
    "    return image\n",
    "\n",
    "# Lista de caminhos das imagens\n",
    "image_paths = ['test_images/img.png', 'test_images/img2.png']\n",
    "images = [load_image(img) for img in image_paths]\n",
    "\n",
    "net.eval()\n",
    "with torch.no_grad(): # --> Desabilita o cálculo de gradientes para inferência\n",
    "    for image in images:\n",
    "        output = net(image)\n",
    "        _, predicted = torch.max(output, 1)\n",
    "        print(f'Predicted class: {class_name[predicted.item()]}')"
   ],
   "id": "2243b7c21d2b4cfd",
   "outputs": [
    {
     "name": "stdout",
     "output_type": "stream",
     "text": [
      "Predicted class: dog\n",
      "Predicted class: plane\n"
     ]
    }
   ],
   "execution_count": 20
  }
 ],
 "metadata": {
  "kernelspec": {
   "display_name": "Python 3",
   "language": "python",
   "name": "python3"
  },
  "language_info": {
   "codemirror_mode": {
    "name": "ipython",
    "version": 2
   },
   "file_extension": ".py",
   "mimetype": "text/x-python",
   "name": "python",
   "nbconvert_exporter": "python",
   "pygments_lexer": "ipython2",
   "version": "2.7.6"
  }
 },
 "nbformat": 4,
 "nbformat_minor": 5
}
